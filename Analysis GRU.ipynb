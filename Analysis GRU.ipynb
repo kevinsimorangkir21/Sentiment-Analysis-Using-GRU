{
 "cells": [
  {
   "cell_type": "markdown",
   "id": "a03902a4",
   "metadata": {
    "papermill": {
     "duration": 0.002036,
     "end_time": "2024-11-14T09:13:01.775284",
     "exception": false,
     "start_time": "2024-11-14T09:13:01.773248",
     "status": "completed"
    },
    "tags": []
   },
   "source": [
    "## Sentiment Analysis Using GRU\n",
    "\n"
   ]
  },
  {
   "cell_type": "code",
   "execution_count": null,
   "id": "fe2551d9",
   "metadata": {
    "_cell_guid": "b1076dfc-b9ad-4769-8c92-a6c4dae69d19",
    "_uuid": "8f2839f25d086af736a60e9eeb907d3b93b6e0e5",
    "papermill": {
     "duration": 0.001299,
     "end_time": "2024-11-14T09:13:01.778320",
     "exception": false,
     "start_time": "2024-11-14T09:13:01.777021",
     "status": "completed"
    },
    "tags": []
   },
   "outputs": [],
   "source": []
  }
 ],
 "metadata": {
  "kaggle": {
   "accelerator": "none",
   "dataSources": [
    {
     "datasetId": 134715,
     "sourceId": 320111,
     "sourceType": "datasetVersion"
    }
   ],
   "dockerImageVersionId": 30786,
   "isGpuEnabled": false,
   "isInternetEnabled": false,
   "language": "python",
   "sourceType": "notebook"
  },
  "kernelspec": {
   "display_name": "Python 3",
   "language": "python",
   "name": "python3"
  },
  "language_info": {
   "codemirror_mode": {
    "name": "ipython",
    "version": 3
   },
   "file_extension": ".py",
   "mimetype": "text/x-python",
   "name": "python",
   "nbconvert_exporter": "python",
   "pygments_lexer": "ipython3",
   "version": "3.10.14"
  },
  "papermill": {
   "default_parameters": {},
   "duration": 3.16431,
   "end_time": "2024-11-14T09:13:02.200062",
   "environment_variables": {},
   "exception": null,
   "input_path": "__notebook__.ipynb",
   "output_path": "__notebook__.ipynb",
   "parameters": {},
   "start_time": "2024-11-14T09:12:59.035752",
   "version": "2.6.0"
  }
 },
 "nbformat": 4,
 "nbformat_minor": 5
}
